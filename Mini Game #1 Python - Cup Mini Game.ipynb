{
 "cells": [
  {
   "cell_type": "markdown",
   "metadata": {},
   "source": [
    "# Cup Mini Game"
   ]
  },
  {
   "cell_type": "code",
   "execution_count": 3,
   "metadata": {},
   "outputs": [],
   "source": [
    "from random import shuffle"
   ]
  },
  {
   "cell_type": "code",
   "execution_count": 6,
   "metadata": {},
   "outputs": [],
   "source": [
    "myList = ['', '0', '']\n",
    "\n",
    "def shuffle_list(cup):\n",
    "    shuffle(cup)\n",
    "    return cup\n",
    "\n",
    "def player_guess():\n",
    "    guess = ''\n",
    "    \n",
    "    while guess not in [0, 1, 2]:\n",
    "        guess = int(input('Please Insert your guess: '))\n",
    "    return guess\n",
    "\n",
    "def check_guess(cup, guess):\n",
    "    if cup[guess] == '0':\n",
    "        print('Correct guess')\n",
    "        print(cup)\n",
    "    else:\n",
    "        print('Wrong guess')\n",
    "        print(cup)"
   ]
  },
  {
   "cell_type": "code",
   "execution_count": 7,
   "metadata": {},
   "outputs": [
    {
     "name": "stdout",
     "output_type": "stream",
     "text": [
      "Please Insert your guess: 2\n",
      "Correct guess\n",
      "['', '', '0']\n"
     ]
    }
   ],
   "source": [
    "check_guess(shuffle_list(myList), player_guess())"
   ]
  },
  {
   "cell_type": "code",
   "execution_count": null,
   "metadata": {},
   "outputs": [],
   "source": []
  }
 ],
 "metadata": {
  "kernelspec": {
   "display_name": "Python 3",
   "language": "python",
   "name": "python3"
  },
  "language_info": {
   "codemirror_mode": {
    "name": "ipython",
    "version": 3
   },
   "file_extension": ".py",
   "mimetype": "text/x-python",
   "name": "python",
   "nbconvert_exporter": "python",
   "pygments_lexer": "ipython3",
   "version": "3.8.5"
  }
 },
 "nbformat": 4,
 "nbformat_minor": 4
}
